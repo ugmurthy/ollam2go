{
 "cells": [
  {
   "cell_type": "code",
   "execution_count": 1,
   "id": "612137e6-3fe7-41ee-8164-077e57f8bfb7",
   "metadata": {},
   "outputs": [],
   "source": [
    "const _ = require('lodash')"
   ]
  },
  {
   "cell_type": "code",
   "execution_count": 2,
   "id": "4b231e0a-8dd9-4eb6-afb3-0e6c5acb22d2",
   "metadata": {},
   "outputs": [
    {
     "data": {
      "text/plain": [
       "{ a: 1, X: 1, T: 0, Level: 7 }"
      ]
     },
     "execution_count": 2,
     "metadata": {},
     "output_type": "execute_result"
    }
   ],
   "source": [
    "_.assign({\"a\":1},{\"X\":1,\"T\":0},{\"Level\":7})"
   ]
  },
  {
   "cell_type": "code",
   "execution_count": 4,
   "id": "e0ffd7ca-7731-4e47-8843-d863651c1e55",
   "metadata": {},
   "outputs": [],
   "source": [
    "const z = require('zod')"
   ]
  },
  {
   "cell_type": "code",
   "execution_count": 5,
   "id": "d320e17a-4b8b-4c41-8dbf-05aa4cdf3376",
   "metadata": {},
   "outputs": [],
   "source": [
    "const UserDetail = z.object({\n",
    "  age: z.number(),\n",
    "  name: z.string(),\n",
    "  role: z.string().optional(),\n",
    "});"
   ]
  },
  {
   "cell_type": "code",
   "execution_count": 6,
   "id": "995c6244-85da-46bc-a452-bdad50fc584c",
   "metadata": {},
   "outputs": [],
   "source": [
    "const MaybeUser = z.object({\n",
    "  result: UserDetail.optional(),\n",
    "  error: z.boolean(),\n",
    "  message: z.string().optional(),\n",
    "});\n",
    "\n",
    "// `MaybeUser` can now encapsulate both a result and an error state."
   ]
  },
  {
   "cell_type": "code",
   "execution_count": 8,
   "id": "918f6abb-0889-40af-86e0-848efe660164",
   "metadata": {},
   "outputs": [],
   "source": [
    "const Maybe = (schema) => z.object({\n",
    "  result: schema.optional(),\n",
    "  error: z.boolean(),\n",
    "  message: z.string().optional(),\n",
    "});\n",
    "\n",
    "const MaybeUser1 = Maybe(UserDetail);"
   ]
  },
  {
   "cell_type": "code",
   "execution_count": 11,
   "id": "d03f6404-db47-4a40-9959-2a9bdd33b0ff",
   "metadata": {},
   "outputs": [
    {
     "ename": "TypeError",
     "evalue": "schema.optional is not a function",
     "execution_count": 11,
     "output_type": "error",
     "traceback": [
      "evalmachine.<anonymous>:2",
      "  result: schema.optional(),",
      "                 ^",
      "",
      "TypeError: schema.optional is not a function",
      "    at Maybe (evalmachine.<anonymous>:2:18)",
      "    at evalmachine.<anonymous>:1:1",
      "    at Script.runInThisContext (node:vm:129:12)",
      "    at Object.runInThisContext (node:vm:307:38)",
      "    at run ([eval]:1020:15)",
      "    at onRunRequest ([eval]:864:18)",
      "    at onMessage ([eval]:828:13)",
      "    at process.emit (node:events:513:28)",
      "    at emit (node:internal/child_process:937:14)",
      "    at process.processTicksAndRejections (node:internal/process/task_queues:83:21)"
     ]
    }
   ],
   "source": [
    "Maybe({name:\"Ganesh\",age:65,role:\"leader\"})"
   ]
  },
  {
   "cell_type": "code",
   "execution_count": 12,
   "id": "ca877238-8479-43ae-9936-565243cd507d",
   "metadata": {},
   "outputs": [],
   "source": [
    "const Role = z.enum([\"PRINCIPAL\", \"TEACHER\", \"STUDENT\", \"OTHER\"]);\n",
    "\n",
    "const UserDetail2 = z.object({\n",
    "  age: z.number(),\n",
    "  name: z.string(),\n",
    "  role: Role,\n",
    "});"
   ]
  },
  {
   "cell_type": "code",
   "execution_count": null,
   "id": "58fdc97a-9488-492d-a73b-834800045ead",
   "metadata": {},
   "outputs": [],
   "source": []
  }
 ],
 "metadata": {
  "kernelspec": {
   "display_name": "JavaScript (Node.js)",
   "language": "javascript",
   "name": "javascript"
  },
  "language_info": {
   "file_extension": ".js",
   "mimetype": "application/javascript",
   "name": "javascript",
   "version": "18.16.0"
  }
 },
 "nbformat": 4,
 "nbformat_minor": 5
}
