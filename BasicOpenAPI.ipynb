{
 "cells": [
  {
   "cell_type": "code",
   "execution_count": 2,
   "id": "5fb21688-16e5-4971-9585-133e618fd583",
   "metadata": {},
   "outputs": [],
   "source": [
    "from openai import OpenAI\n",
    "from pydantic import BaseModel, Field\n",
    "from typing import List"
   ]
  },
  {
   "cell_type": "code",
   "execution_count": 3,
   "id": "2a3bfad9-9521-4afd-88f5-f9523730f532",
   "metadata": {},
   "outputs": [],
   "source": [
    "import instructor"
   ]
  },
  {
   "cell_type": "code",
   "execution_count": 6,
   "id": "0725c5d0-929f-45d7-8e6a-edefc6a4fa76",
   "metadata": {},
   "outputs": [],
   "source": [
    "client = instructor.patch(OpenAI(base_url=\"http://localhost:11434/v1\",api_key=\"ollama\"))"
   ]
  },
  {
   "cell_type": "code",
   "execution_count": 7,
   "id": "4fbd50c6-4a5a-4e63-b736-fb691f521261",
   "metadata": {},
   "outputs": [],
   "source": [
    "response = client.chat.completions.create(\n",
    "  model=\"llama2\",\n",
    "  messages=[\n",
    "    {\"role\": \"system\", \"content\": \"You are a helpful assistant.\"},\n",
    "    {\"role\": \"user\", \"content\": \"Who won the world series in 2020?\"},\n",
    "    {\"role\": \"assistant\", \"content\": \"The LA Dodgers won in 2020.\"},\n",
    "    {\"role\": \"user\", \"content\": \"Where was it played?\"}\n",
    "  ]\n",
    ")"
   ]
  },
  {
   "cell_type": "code",
   "execution_count": 8,
   "id": "d6a557f4-34ee-4f48-a11a-bbe8bb8cd36a",
   "metadata": {},
   "outputs": [
    {
     "name": "stdout",
     "output_type": "stream",
     "text": [
      "The 2020 World Series was played at various locations, including:\n",
      "\n",
      "* Game 1: Dodger Stadium (Los Angeles, California) - The Los Angeles Dodgers hosted the Houston Astros.\n",
      "* Game 2: Minute Maid Park (Houston, Texas) - The Houston Astros hosted the Los Angeles Dodgers.\n",
      "* Game 3: Citizens Bank Park (Philadelphia, Pennsylvania) - The Philadelphia Phillies hosted the Los Angeles Dodgers.\n",
      "* Game 4: Globe Life Field (Arlington, Texas) - The Los Angeles Dodgers hosted the Houston Astros.\n",
      "\n",
      "So, the World Series in 2020 was played at three different locations in the United States.\n"
     ]
    }
   ],
   "source": [
    "print(response.choices[0].message.content)\n"
   ]
  },
  {
   "cell_type": "code",
   "execution_count": null,
   "id": "20dc746b-89a5-4478-8cd8-82d24fc6a0c3",
   "metadata": {},
   "outputs": [],
   "source": []
  }
 ],
 "metadata": {
  "kernelspec": {
   "display_name": "Python 3 (ipykernel)",
   "language": "python",
   "name": "python3"
  },
  "language_info": {
   "codemirror_mode": {
    "name": "ipython",
    "version": 3
   },
   "file_extension": ".py",
   "mimetype": "text/x-python",
   "name": "python",
   "nbconvert_exporter": "python",
   "pygments_lexer": "ipython3",
   "version": "3.10.11"
  }
 },
 "nbformat": 4,
 "nbformat_minor": 5
}
