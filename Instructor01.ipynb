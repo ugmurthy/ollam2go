{
 "cells": [
  {
   "cell_type": "code",
   "execution_count": 1,
   "id": "ada7d1c8-b3cb-4812-8df1-136c52d8ac4b",
   "metadata": {},
   "outputs": [],
   "source": [
    "const Instructor = require(\"@instructor-ai/instructor\")\n",
    "const z = require(\"zod\")\n",
    "const OpenAI = require(\"openai\")\n",
    "\n",
    "const oai = new OpenAI({\n",
    "  apiKey: process.env.OPENAI_API_KEY ?? undefined,\n",
    "  organization: process.env.OPENAI_ORG_ID ?? undefined,\n",
    "  baseURL:\"http://localhost:11434/v1\",\n",
    "})\n",
    "\n",
    "const client = Instructor.default({\n",
    "  client: oai,\n",
    "  mode: \"FUNCTIONS\"\n",
    "})\n",
    "const UserSchema = z.object({\n",
    "  // Description will be used in the prompt\n",
    "  age: z.number().describe(\"The age of the user\"), \n",
    "  name: z.string()\n",
    "})\n",
    "\n",
    "const user = await client.chat.completions.create({\n",
    "  messages: [{ role: \"user\", content: \"Jason Liu is 30 years old\" }],\n",
    "  model: \"ollama2\",\n",
    "  response_model: { \n",
    "    schema: UserSchema, \n",
    "    name: \"User\"\n",
    "  }\n",
    "})\n"
   ]
  },
  {
   "cell_type": "code",
   "execution_count": 9,
   "id": "b35ea8e2-9c2f-4761-8c9e-24c02d4f8570",
   "metadata": {},
   "outputs": [],
   "source": [
    "const ola = new OpenAI({\n",
    "  apiKey: process.env.OPENAI_API_KEY ?? undefined,\n",
    "  organization: process.env.OPENAI_ORG_ID ?? undefined,\n",
    "  baseURL:\"http://localhost:11434/v1\",\n",
    "})\n"
   ]
  },
  {
   "cell_type": "code",
   "execution_count": 10,
   "id": "f3628a49-5c4a-4e70-88c4-86ef455f0b6a",
   "metadata": {},
   "outputs": [],
   "source": [
    "const ola_client = Instructor.default({\n",
    "  client: ola,\n",
    "  mode: \"FUNCTIONS\"\n",
    "})"
   ]
  },
  {
   "cell_type": "code",
   "execution_count": 11,
   "id": "8775eec0-555a-4c77-b179-3d21973774d3",
   "metadata": {},
   "outputs": [
    {
     "ename": "SyntaxError",
     "evalue": "await is only valid in async functions and the top level bodies of modules",
     "execution_count": 11,
     "output_type": "error",
     "traceback": [
      "evalmachine.<anonymous>:1",
      "const user = await ola_client.chat.completions.create({",
      "             ^^^^^",
      "",
      "SyntaxError: await is only valid in async functions and the top level bodies of modules",
      "    at new Script (node:vm:100:7)",
      "    at createScript (node:vm:259:10)",
      "    at Object.runInThisContext (node:vm:307:10)",
      "    at run ([eval]:1020:15)",
      "    at onRunRequest ([eval]:864:18)",
      "    at onMessage ([eval]:828:13)",
      "    at process.emit (node:events:513:28)",
      "    at emit (node:internal/child_process:937:14)",
      "    at process.processTicksAndRejections (node:internal/process/task_queues:83:21)"
     ]
    }
   ],
   "source": [
    "const user = await ola_client.chat.completions.create({\n",
    "  messages: [{ role: \"user\", content: \"Jason Liu is 30 years old\" }],\n",
    "  model: \"llama2:latest\",\n",
    "  response_model: { \n",
    "    schema: UserSchema, \n",
    "    name: \"User\"\n",
    "  }\n",
    "})"
   ]
  },
  {
   "cell_type": "code",
   "execution_count": null,
   "id": "94dee774-cdec-41d9-9b6d-a4620d4c721b",
   "metadata": {},
   "outputs": [],
   "source": []
  }
 ],
 "metadata": {
  "kernelspec": {
   "display_name": "JavaScript (Node.js)",
   "language": "javascript",
   "name": "javascript"
  },
  "language_info": {
   "file_extension": ".js",
   "mimetype": "application/javascript",
   "name": "javascript",
   "version": "18.16.0"
  }
 },
 "nbformat": 4,
 "nbformat_minor": 5
}
