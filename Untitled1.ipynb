{
 "cells": [
  {
   "cell_type": "code",
   "execution_count": 1,
   "id": "331d1ae7-3697-48b9-bc47-99a82ff93d5a",
   "metadata": {},
   "outputs": [],
   "source": [
    "const z = require('zod')"
   ]
  },
  {
   "cell_type": "code",
   "execution_count": 4,
   "id": "eb1e3764-f05f-41fd-84ac-cec8dcda3349",
   "metadata": {},
   "outputs": [
    {
     "data": {
      "text/plain": [
       "{ success: false, error: [Getter] }"
      ]
     },
     "execution_count": 4,
     "metadata": {},
     "output_type": "execute_result"
    }
   ],
   "source": [
    "// creating a schema for strings\n",
    "const mySchema1 = z.string();\n",
    "\n",
    "// parsing\n",
    "mySchema.parse(\"tuna\"); // => \"tuna\"\n",
    "\n",
    "\n",
    "// \"safe\" parsing (doesn't throw error if validation fails)\n",
    "mySchema.safeParse(\"tuna\"); // => { success: true; data: \"tuna\" }\n",
    "mySchema.safeParse(12); // => { success: false; error: ZodError }"
   ]
  },
  {
   "cell_type": "code",
   "execution_count": 6,
   "id": "89d38280-479e-4582-bf9b-7d8ad9fdf928",
   "metadata": {},
   "outputs": [
    {
     "data": {
      "text/plain": [
       "{ success: true, data: 'tuna' }"
      ]
     },
     "execution_count": 6,
     "metadata": {},
     "output_type": "execute_result"
    }
   ],
   "source": [
    "mySchema.safeParse(\"tuna\");"
   ]
  },
  {
   "cell_type": "code",
   "execution_count": 7,
   "id": "795d2df3-9b25-45b6-8755-3483ad4b8fe9",
   "metadata": {},
   "outputs": [
    {
     "data": {
      "text/plain": [
       "{ username: 'Ludwig' }"
      ]
     },
     "execution_count": 7,
     "metadata": {},
     "output_type": "execute_result"
    }
   ],
   "source": [
    "const User = z.object({\n",
    "  username: z.string(),\n",
    "});\n",
    "\n",
    "User.parse({ username: \"Ludwig\" });"
   ]
  },
  {
   "cell_type": "code",
   "execution_count": 8,
   "id": "551bcc03-7671-42b6-8acc-80a71cdbdffd",
   "metadata": {},
   "outputs": [
    {
     "ename": "SyntaxError",
     "evalue": "Unexpected identifier",
     "execution_count": 8,
     "output_type": "error",
     "traceback": [
      "evalmachine.<anonymous>:2",
      "type User = z.infer<typeof User>;",
      "     ^^^^",
      "",
      "SyntaxError: Unexpected identifier",
      "    at new Script (node:vm:100:7)",
      "    at createScript (node:vm:259:10)",
      "    at Object.runInThisContext (node:vm:307:10)",
      "    at run ([eval]:1020:15)",
      "    at onRunRequest ([eval]:864:18)",
      "    at onMessage ([eval]:828:13)",
      "    at process.emit (node:events:513:28)",
      "    at emit (node:internal/child_process:937:14)",
      "    at process.processTicksAndRejections (node:internal/process/task_queues:83:21)"
     ]
    }
   ],
   "source": [
    "// extract the inferred type\n",
    "type User = z.infer<typeof User>;"
   ]
  },
  {
   "cell_type": "code",
   "execution_count": null,
   "id": "44d2a969-d65a-40bb-ab46-d0196fe2f005",
   "metadata": {},
   "outputs": [],
   "source": []
  }
 ],
 "metadata": {
  "kernelspec": {
   "display_name": "JavaScript (Node.js)",
   "language": "javascript",
   "name": "javascript"
  },
  "language_info": {
   "file_extension": ".js",
   "mimetype": "application/javascript",
   "name": "javascript",
   "version": "18.16.0"
  }
 },
 "nbformat": 4,
 "nbformat_minor": 5
}
